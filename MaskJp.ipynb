{
 "cells": [
  {
   "cell_type": "markdown",
   "metadata": {},
   "source": [
    "## Original Sentence\n",
    "成田国際空港（千葉県成田市）、日本空港ビルデング、ＪＡＬＵＸ、三菱商事の４社は５日、モンゴルの新ウランバートル国際空港の運営に参画することが決まったと発表した。成田国際空港が海外の空港運営に参画するのは初めてとなる。"
   ]
  },
  {
   "cell_type": "code",
   "execution_count": 1,
   "metadata": {},
   "outputs": [
    {
     "name": "stdout",
     "output_type": "stream",
     "text": [
      "['[CLS]', '成', '田', '国', '[MASK]', '空', '港', '（', '千', '葉', '県', '成', '[MASK]', '市', '）', '、', '日', '本', '空', '港', 'ヒル', '##テン', '##ク', '、', '[UNK]', '、', '三', '菱', '[MASK]', '事', 'の', '##４', '社', 'は', '##５', '日', '、', 'モ', '##ン', '##コ', '##ルの', '新', 'ウ', '##ラン', '##ハート', '##ル', '国', '際', '空', '港', 'の', '運', '営', 'に', '参', '画', 'することか', '決', 'まった', '##と', '発', '表', 'した', '。', '成', '田', '国', '際', '空', '港', 'か', '海', '外', 'の', '[', 'mask', ']', '港', '運', '営', 'に', '参', '画', 'する', '##のは', '初', 'めて', '##となる', '。', '[SEP]']\n"
     ]
    }
   ],
   "source": [
    "import torch\n",
    "from pytorch_pretrained_bert import BertTokenizer, BertForMaskedLM\n",
    "\n",
    "tokenizer = BertTokenizer.from_pretrained('bert-base-multilingual-uncased')\n",
    "\n",
    "text = \"[CLS] 成田国[MASK]空港（千葉県成[MASK]市）、日本空港ビルデング、ＪＡＬＵＸ、三菱[MASK]事の４社は５日、モンゴルの新ウランバートル国際空港の運営に参画することが決まったと発表した。成田国際空港が海外の[MASK]港運営に参画するのは初めてとなる。 [SEP]\"\n",
    "tokenized_text = tokenizer.tokenize(text)\n",
    "\n",
    "print(tokenized_text)"
   ]
  },
  {
   "cell_type": "code",
   "execution_count": 2,
   "metadata": {},
   "outputs": [
    {
     "name": "stdout",
     "output_type": "stream",
     "text": [
      "[101, 3900, 5841, 2751, 103, 6324, 5193, 10028, 2315, 7341, 6029, 3900, 103, 3451, 10029, 1482, 4316, 4465, 6324, 5193, 67111, 35344, 14622, 1482, 100, 1482, 1656, 7310, 103, 1731, 1537, 105817, 6202, 1538, 105818, 4316, 1482, 1605, 12426, 17081, 62398, 4299, 1570, 34915, 42085, 13013, 2751, 9180, 6324, 5193, 1537, 8498, 2633, 1534, 2383, 5849, 38952, 4975, 41331, 11651, 5969, 7674, 10568, 1483, 3900, 5841, 2751, 9180, 6324, 5193, 1517, 5097, 2965, 1537, 138, 44054, 140, 5193, 8498, 2633, 1534, 2383, 5849, 10653, 21822, 2178, 19890, 48527, 1483, 102]\n",
      "[0, 0, 0, 0, 0, 0, 0, 0, 0, 0, 0, 0, 0, 0, 0, 0, 0, 0, 0, 0, 0, 0, 0, 0, 0, 0, 0, 0, 0, 0, 0, 0, 0, 0, 0, 0, 0, 0, 0, 0, 0, 0, 0, 0, 0, 0, 0, 0, 0, 0, 0, 0, 0, 0, 0, 0, 0, 0, 0, 0, 0, 0, 0, 0, 0, 0, 0, 0, 0, 0, 0, 0, 0, 0, 0, 0, 0, 0, 0, 0, 0, 0, 0, 0, 0, 0, 0, 0, 0, 0]\n"
     ]
    }
   ],
   "source": [
    "indexed_tokens = tokenizer.convert_tokens_to_ids(tokenized_text)\n",
    "segments_ids = [0] * len(tokenized_text)\n",
    "\n",
    "print(indexed_tokens)\n",
    "print(segments_ids)"
   ]
  },
  {
   "cell_type": "code",
   "execution_count": 5,
   "metadata": {},
   "outputs": [
    {
     "name": "stdout",
     "output_type": "stream",
     "text": [
      "[4, 12, 28]\n"
     ]
    }
   ],
   "source": [
    "tokens_tensor = torch.tensor([indexed_tokens])\n",
    "segments_tensors = torch.tensor([segments_ids])\n",
    "\n",
    "model = BertForMaskedLM.from_pretrained('bert-base-multilingual-uncased')\n",
    "model.eval()\n",
    "\n",
    "with torch.no_grad():\n",
    "    predictions = model(tokens_tensor, segments_tensors)\n",
    "    \n",
    "# masked_index = tokenized_text.index(\"[MASK]\")\n",
    "# print(masked_index)\n",
    "\n",
    "masked_indices = [i for i, x in enumerate(tokenized_text) if x == \"[MASK]\"]\n",
    "print(masked_indices)"
   ]
  },
  {
   "cell_type": "code",
   "execution_count": 6,
   "metadata": {},
   "outputs": [
    {
     "name": "stdout",
     "output_type": "stream",
     "text": [
      "際\n",
      "田\n",
      "同\n"
     ]
    }
   ],
   "source": [
    "for idx in masked_indices:\n",
    "    predicted_index = torch.argmax(predictions[0, idx]).item()\n",
    "    predicted_token = tokenizer.convert_ids_to_tokens([predicted_index])[0]\n",
    "    print(predicted_token)"
   ]
  },
  {
   "cell_type": "code",
   "execution_count": null,
   "metadata": {},
   "outputs": [],
   "source": []
  }
 ],
 "metadata": {
  "kernelspec": {
   "display_name": "Python 3",
   "language": "python",
   "name": "python3"
  },
  "language_info": {
   "codemirror_mode": {
    "name": "ipython",
    "version": 3
   },
   "file_extension": ".py",
   "mimetype": "text/x-python",
   "name": "python",
   "nbconvert_exporter": "python",
   "pygments_lexer": "ipython3",
   "version": "3.7.2"
  }
 },
 "nbformat": 4,
 "nbformat_minor": 2
}
